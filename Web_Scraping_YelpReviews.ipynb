{
 "cells": [
  {
   "cell_type": "code",
   "execution_count": 29,
   "metadata": {
    "scrolled": true
   },
   "outputs": [
    {
     "ename": "IndentationError",
     "evalue": "expected an indented block (<ipython-input-29-01a071866b9a>, line 11)",
     "output_type": "error",
     "traceback": [
      "\u001b[0;36m  File \u001b[0;32m\"<ipython-input-29-01a071866b9a>\"\u001b[0;36m, line \u001b[0;32m11\u001b[0m\n\u001b[0;31m    html = \"https://www.yelp.com/search?find_desc=fine+dining&find_loc=Sacramento,+CA&start=\" + i\u001b[0m\n\u001b[0m       ^\u001b[0m\n\u001b[0;31mIndentationError\u001b[0m\u001b[0;31m:\u001b[0m expected an indented block\n"
     ]
    }
   ],
   "source": [
    "\n",
    "\n",
    "from bs4 import BeautifulSoup\n",
    "import requests\n",
    "import re\n",
    "import pandas as pd\n",
    "\n",
    "\n",
    "    \n",
    "html = \"https://www.yelp.com/search?find_desc=fine+dining&find_loc=Sacramento,+CA&start=0\" \n",
    "page = requests.get(page)\n",
    "soup = BeautifulSoup(page.content, 'html.parser')\n",
    "\n",
    "#get all the names of the restaurants\n",
    "names = soup.find('meta', property = 'og:description')['content']\n",
    "names = names.split(\"-\")[1]\n",
    "names = names.split(\",\")\n",
    "\n",
    "\n",
    "#get the descriptions\n",
    "desc = []\n",
    "for i in range(10, 23):\n",
    "    p = soup.find_all(\"p\")[i]\n",
    "    desc.append(p)\n",
    " \n",
    "\n",
    "desc = [element.get_text().strip() for element in desc]\n",
    "desc = [re.sub(\"read more\", \"\", element) for element in desc]\n",
    "desc = [element.replace(\"\\n\", \"\") for element in desc]\n",
    "\n",
    "del desc[0]\n",
    "del desc[10]\n",
    "del desc[-1]\n",
    "\n",
    "\n",
    "\n",
    "\n",
    "#get all phone numbers\n",
    "phone_numbers =  soup.find_all('span', {'class' : 'biz-phone'})\n",
    "each_number = [number.get_text().strip() for number in phone_numbers]\n",
    "\n",
    "#get all reviews\n",
    "reviews = soup.find_all('span', {'class': 'review-count rating-qualifier'} )\n",
    "all_reviews = [review.get_text().strip() for review in reviews]\n",
    "all_reviews = [re.sub(\"reviews\", \"\", element) for element in all_reviews]\n",
    "\n",
    "\n",
    "#get all addresses\n",
    "addresses  = soup.find_all('address')\n",
    "addresses  = [address.get_text().strip() for address in addresses]\n",
    "\n",
    "#get all of part of SacTown\n",
    "final_addresses =  soup.find_all('span', {'class': 'neighborhood-str-list'})\n",
    "final_add = [add.get_text().strip() for add in final_addresses]\n",
    "final_add.insert(7, \"Sacramento\")\n",
    "final_add.insert(1, \"Sacramento\")\n",
    "\n",
    "#putting it all together\n",
    "all_info = pd.DataFrame(dict(names = names, descriptions = desc, reviews = all_reviews, addresses = \n",
    "                            addresses, town = final_add, numbers = each_number))\n",
    "\n",
    "\n",
    "\n",
    "\n",
    "all_info.head(4)\n",
    "\n",
    "\n",
    "\n",
    "\n",
    "\n",
    "\n",
    "\n",
    "\n",
    "\n",
    "\n",
    "\n"
   ]
  },
  {
   "cell_type": "code",
   "execution_count": null,
   "metadata": {},
   "outputs": [],
   "source": []
  },
  {
   "cell_type": "code",
   "execution_count": null,
   "metadata": {},
   "outputs": [],
   "source": []
  },
  {
   "cell_type": "code",
   "execution_count": null,
   "metadata": {},
   "outputs": [],
   "source": []
  },
  {
   "cell_type": "code",
   "execution_count": null,
   "metadata": {},
   "outputs": [],
   "source": []
  },
  {
   "cell_type": "code",
   "execution_count": null,
   "metadata": {},
   "outputs": [],
   "source": []
  }
 ],
 "metadata": {
  "kernelspec": {
   "display_name": "Python 3",
   "language": "python",
   "name": "python3"
  },
  "language_info": {
   "codemirror_mode": {
    "name": "ipython",
    "version": 3
   },
   "file_extension": ".py",
   "mimetype": "text/x-python",
   "name": "python",
   "nbconvert_exporter": "python",
   "pygments_lexer": "ipython3",
   "version": "3.6.5"
  }
 },
 "nbformat": 4,
 "nbformat_minor": 2
}
