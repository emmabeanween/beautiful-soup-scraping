{
 "cells": [
  {
   "cell_type": "code",
   "execution_count": 1,
   "metadata": {},
   "outputs": [
    {
     "name": "stdout",
     "output_type": "stream",
     "text": [
      "            title       author  date_published\n",
      "0  50 of Our Best  Dean Baquet  Sept. 21, 2015\n",
      "                                           headlines  \\\n",
      "0                  State of Terror: The Rise of ISIS   \n",
      "1                            Chasing the Higgs Boson   \n",
      "2  Punched Out: The Life and Death of a Hockey En...   \n",
      "3               Editorial: President Obama’s Dragnet   \n",
      "4   Ferguson Became Symbol, but Bias Knows No Border   \n",
      "\n",
      "                                        descriptions  \\\n",
      "0  Our coverage of the Islamic State showed how i...   \n",
      "1  Two armies of physicists struggle to close in ...   \n",
      "2  This three-part series and video examined the ...   \n",
      "3  After Edward Snowden’s disclosure of extensive...   \n",
      "4  Our reporters spent months delving into the ca...   \n",
      "\n",
      "                                               links  \n",
      "0  http://www.nytimes.com/2015/08/14/world/middle...  \n",
      "1  http://www.nytimes.com/2013/03/05/science/chas...  \n",
      "2   http://www.nytimes.com/2011/12/04/sports/hock...  \n",
      "3  http://www.nytimes.com/2013/06/07/opinion/pres...  \n",
      "4  http://www.nytimes.com/2015/03/08/us/ferguson-...  \n"
     ]
    }
   ],
   "source": [
    "from bs4 import BeautifulSoup\n",
    "import requests\n",
    "import pandas as pd\n",
    "\n",
    "#get the page\n",
    "page = requests.get(\"https://www.nytimes.com/interactive/2015/09/21/business/media/50-of-our-best-stories-from-nytimes.html\")\n",
    "soup = BeautifulSoup(page.content, 'html.parser')\n",
    "\n",
    "\n",
    "#get the title\n",
    "\n",
    "title = soup.find(\"meta\", attrs = {\"name\": \"hdl\"}).get(\"content\")\n",
    "\n",
    "\n",
    "#get all the article headlines\n",
    "list_headlines = []\n",
    "headlines = soup.find_all(\"div\", {\"class\": \"listy_headline\"})\n",
    "for each_headline in headlines:\n",
    "   headline = each_headline.get_text()\n",
    "   list_headlines.append(headline)\n",
    "\n",
    "length = len(list_headlines)\n",
    "del list_headlines[-1]\n",
    "list_headlines = [item.strip() for item in list_headlines]\n",
    "\n",
    "#get all descriptions of the articles\n",
    "list_descriptions = []\n",
    "descriptions  = soup.find_all(\"div\", {\"class\": \"listy_body\"})\n",
    "for description in descriptions:\n",
    " each_desc = description.get_text()\n",
    " list_descriptions.append(each_desc)\n",
    "\n",
    "del list_descriptions[-1]\n",
    "del list_descriptions[0]\n",
    "list_descriptions = [item.strip() for item in list_descriptions]\n",
    "\n",
    "#get all links for the articles\n",
    "links = []\n",
    "detail_link = soup.find_all(\"div\", {\"class\": \"listy_detail\"})\n",
    "for link in detail_link:\n",
    "   each_link = link.find(\"p\").get_text()\n",
    "   links.append(each_link)\n",
    "\n",
    "del links[-1]\n",
    "\n",
    "compr_data = pd.DataFrame(dict(headlines = list_headlines, descriptions = list_descriptions, links = links))\n",
    "\n",
    "\n",
    "#the author\n",
    "author =  soup.find(\"meta\", attrs = {\"name\": \"author\"}).get(\"content\")\n",
    "author = author.split(\",\")[0]\n",
    "\n",
    "\n",
    "#the date\n",
    "date_published = soup.find(\"meta\", attrs = {\"name\": \"dat\"}).get(\"content\")\n",
    "\n",
    "#combine the title, author, and date in a mini table\n",
    "\n",
    "mini_info = pd.DataFrame(dict(title = title, author = author, date_published = date_published), index = [0])\n",
    "print(mini_info)\n",
    "\n",
    "#print the head of the rest of our info\n",
    "print(compr_data.head(5))"
   ]
  },
  {
   "cell_type": "code",
   "execution_count": null,
   "metadata": {},
   "outputs": [],
   "source": []
  },
  {
   "cell_type": "code",
   "execution_count": null,
   "metadata": {},
   "outputs": [],
   "source": []
  }
 ],
 "metadata": {
  "kernelspec": {
   "display_name": "Python 3",
   "language": "python",
   "name": "python3"
  },
  "language_info": {
   "codemirror_mode": {
    "name": "ipython",
    "version": 3
   },
   "file_extension": ".py",
   "mimetype": "text/x-python",
   "name": "python",
   "nbconvert_exporter": "python",
   "pygments_lexer": "ipython3",
   "version": "3.6.5"
  }
 },
 "nbformat": 4,
 "nbformat_minor": 2
}
